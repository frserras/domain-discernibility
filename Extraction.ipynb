{
 "cells": [
  {
   "cell_type": "code",
   "execution_count": 1,
   "id": "e9f1d330-38c4-49fc-adac-37c8d721cf0e",
   "metadata": {
    "tags": []
   },
   "outputs": [],
   "source": [
    "import os\n",
    "import polars as pl\n",
    "from tqdm import tqdm\n",
    "import xml.etree.ElementTree as et"
   ]
  },
  {
   "cell_type": "code",
   "execution_count": 2,
   "id": "807b0e12-fd95-4dd3-875d-cac1a67b3fcd",
   "metadata": {
    "tags": []
   },
   "outputs": [],
   "source": [
    "def obtain_xml_files(target_directory):\n",
    "    xml_files = []\n",
    "    for root, _, files in os.walk(target_directory):\n",
    "        for file in files:\n",
    "            if file.endswith('.xml'):\n",
    "                xml_files.append(os.path.join(root, file))\n",
    "    return xml_files"
   ]
  },
  {
   "cell_type": "code",
   "execution_count": 3,
   "id": "9b91767b-cef2-4df1-a803-c5b89701397c",
   "metadata": {
    "tags": []
   },
   "outputs": [],
   "source": [
    "def extract_type_info(xml_files, namespace='http://www.tei-c.org/ns/1.0'):\n",
    "    et.register_namespace('', namespace)\n",
    "    tag = lambda tag_name: '{' + namespace + '}' + tag_name\n",
    "    data = {'title_id':[], 'title_content':[], 'body':[], 'domain':[], 'source_type':[], 'carolina_type':[]}\n",
    "    for xml_file in tqdm(xml_files):\n",
    "        tree = et.parse(xml_file)\n",
    "        root = tree.getroot()\n",
    "        documents = tree.findall(tag('TEI'))\n",
    "        doc_count = 0\n",
    "        for document in documents:\n",
    "            header = document.findall(tag('teiHeader'))[0]\n",
    "            fileDesc = header.findall(tag('fileDesc'))[0]\n",
    "            titleStmt = fileDesc.findall(tag('titleStmt'))[0]\n",
    "            title_id = titleStmt.findall(tag('title'))[0].text\n",
    "            \n",
    "            text = document.findall(tag('text'))[0]\n",
    "            body = text.findall(tag('body'))[0]\n",
    "            paragraphs =  body.findall(tag('p'))\n",
    "            try:\n",
    "                content =\"\\t\" + \"\\n\\t\".join([p.text for p in paragraphs])\n",
    "            except TypeError as err:\n",
    "                content =\"\\t\" + \"\\n\\t\".join([p.text for p in paragraphs if p.text != None])\n",
    "            \n",
    "            sourceDesc = fileDesc.findall(tag('sourceDesc'))[0]\n",
    "            biblFull = sourceDesc.findall(tag('biblFull'))[0]\n",
    "            profileDesc = biblFull.findall(tag('profileDesc'))[0]\n",
    "            textDesc = profileDesc.findall(tag('textDesc'))[0]\n",
    "            domain = textDesc.findall(tag('domain'))[0].text\n",
    "            \n",
    "    \n",
    "            fileDesc = biblFull.findall(tag('fileDesc'))[0]\n",
    "            titleStmt = fileDesc.findall(tag('titleStmt'))[0]\n",
    "            title = titleStmt.findall(tag('title'))[0]\n",
    "            title_content = title.findall(tag('name'))[0].text\n",
    "            \n",
    "    \n",
    "            textClass = profileDesc.findall(tag('textClass'))[0]\n",
    "            catRef = textClass.findall(tag('catRef'))[0]\n",
    "            if catRef.attrib['scheme'] != \"#Source_typology\":\n",
    "                raise ValueError(\"Typological Scheme Error: expected #Source_typology, found \" + catRef.attrib['scheme'])\n",
    "            source_type = catRef.attrib['target']\n",
    "            \n",
    "    \n",
    "            profileDesc = header.findall(tag('profileDesc'))[0]\n",
    "            textClass = profileDesc.findall(tag('textClass'))[0]\n",
    "            catRef = textClass.findall(tag('catRef'))[0]\n",
    "            if catRef.attrib['scheme'] != \"#Carolina_typology\":\n",
    "                raise ValueError(\"Typological Scheme Error: expected #Carolina_typology, found \" + catRef.attrib['scheme'])\n",
    "            carolina_type = catRef.attrib['target']\n",
    "            \n",
    "            \n",
    "            data['body'].append(content)\n",
    "            data['title_id'].append(title_id)\n",
    "            data['title_content'].append(title_content)\n",
    "            data['source_type'].append(source_type)\n",
    "            data['carolina_type'].append(carolina_type)\n",
    "            data['domain'].append(domain)\n",
    "                \n",
    "                \n",
    "            \n",
    "            doc_count += 1\n",
    "    df = pl.DataFrame(data)\n",
    "    return df\n",
    "    "
   ]
  },
  {
   "cell_type": "code",
   "execution_count": 4,
   "id": "a9449e3d-9f9d-43a1-92b1-1384c2bd09ea",
   "metadata": {
    "tags": []
   },
   "outputs": [
    {
     "name": "stderr",
     "output_type": "stream",
     "text": [
      "100%|█████████████████████████████████████████████████████████| 396/396 [04:28<00:00,  1.48it/s]\n"
     ]
    }
   ],
   "source": [
    "xml_files = obtain_xml_files('Carolina_balanceado')\n",
    "type_df = extract_type_info(xml_files)"
   ]
  },
  {
   "cell_type": "code",
   "execution_count": 7,
   "id": "ac7bb64c-d78f-4586-88a5-2fd4e1aea3c7",
   "metadata": {
    "tags": []
   },
   "outputs": [
    {
     "data": {
      "text/html": [
       "<div><style>\n",
       ".dataframe > thead > tr,\n",
       ".dataframe > tbody > tr {\n",
       "  text-align: right;\n",
       "  white-space: pre-wrap;\n",
       "}\n",
       "</style>\n",
       "<small>shape: (10, 6)</small><table border=\"1\" class=\"dataframe\"><thead><tr><th>title_id</th><th>title_content</th><th>body</th><th>domain</th><th>source_type</th><th>carolina_type</th></tr><tr><td>str</td><td>str</td><td>str</td><td>str</td><td>str</td><td>str</td></tr></thead><tbody><tr><td>&quot;WIK000958146gk&quot;</td><td>&quot;Leila Barros é escolhida procu…</td><td>&quot;\tEm sessão remota nesta terça-…</td><td>&quot;Journalistic&quot;</td><td>&quot;#NEWS_JOU_W&quot;</td><td>&quot;#WIKIS&quot;</td></tr><tr><td>&quot;DAT000503374cw&quot;</td><td>null</td><td>&quot;\t@passozx poxa :(&quot;</td><td>&quot;Virtual&quot;</td><td>&quot;#TWEET_VIR_W&quot;</td><td>&quot;#DATASETS_AND_OTHER_CORPORA&quot;</td></tr><tr><td>&quot;DAT000951987ei&quot;</td><td>null</td><td>&quot;\tbom dia, bebê! como você está…</td><td>&quot;Virtual&quot;</td><td>&quot;#TWEET_VIR_W&quot;</td><td>&quot;#DATASETS_AND_OTHER_CORPORA&quot;</td></tr><tr><td>&quot;DAT000326787aw&quot;</td><td>&quot;Cresce discriminação contra mu…</td><td>&quot;\tRecém-saída da faculdade, Ang…</td><td>&quot;Journalistic&quot;</td><td>&quot;#NEWS_JOU_W&quot;</td><td>&quot;#DATASETS_AND_OTHER_CORPORA&quot;</td></tr><tr><td>&quot;DAT000483843cv&quot;</td><td>null</td><td>&quot;\tO Nani já não dá mortais? :(&quot;</td><td>&quot;Virtual&quot;</td><td>&quot;#TWEET_VIR_W&quot;</td><td>&quot;#DATASETS_AND_OTHER_CORPORA&quot;</td></tr><tr><td>&quot;WIK000146593am&quot;</td><td>&quot;Agostinho da Silva&quot;</td><td>&quot;\tGeorge Agostinho Baptista da …</td><td>&quot;Instructional&quot;</td><td>&quot;#VOCABULARY_ENTRY_INS_W&quot;</td><td>&quot;#WIKIS&quot;</td></tr><tr><td>&quot;WIK000227187bd&quot;</td><td>&quot;Clássico Matuto&quot;</td><td>&quot;\tO Clássico Mestre Vitalino ou…</td><td>&quot;Instructional&quot;</td><td>&quot;#VOCABULARY_ENTRY_INS_W&quot;</td><td>&quot;#WIKIS&quot;</td></tr><tr><td>&quot;DAT000500658cw&quot;</td><td>null</td><td>&quot;\tJá não existe :( https://t.co…</td><td>&quot;Virtual&quot;</td><td>&quot;#TWEET_VIR_W&quot;</td><td>&quot;#DATASETS_AND_OTHER_CORPORA&quot;</td></tr><tr><td>&quot;WIK000438212cr&quot;</td><td>&quot;Discussão:A Torre Negra&quot;</td><td>&quot;\tCategory:!Artigos com qualida…</td><td>&quot;Virtual&quot;</td><td>&quot;#DISCUSSION_VIR_W&quot;</td><td>&quot;#WIKIS&quot;</td></tr><tr><td>&quot;DAT000743457dr&quot;</td><td>null</td><td>&quot;\t@flossombrazil O fandom tá cr…</td><td>&quot;Virtual&quot;</td><td>&quot;#TWEET_VIR_W&quot;</td><td>&quot;#DATASETS_AND_OTHER_CORPORA&quot;</td></tr></tbody></table></div>"
      ],
      "text/plain": [
       "shape: (10, 6)\n",
       "┌────────────────┬────────────────┬────────────────┬───────────────┬───────────────┬───────────────┐\n",
       "│ title_id       ┆ title_content  ┆ body           ┆ domain        ┆ source_type   ┆ carolina_type │\n",
       "│ ---            ┆ ---            ┆ ---            ┆ ---           ┆ ---           ┆ ---           │\n",
       "│ str            ┆ str            ┆ str            ┆ str           ┆ str           ┆ str           │\n",
       "╞════════════════╪════════════════╪════════════════╪═══════════════╪═══════════════╪═══════════════╡\n",
       "│ WIK000958146gk ┆ Leila Barros é ┆ \tEm sessão     ┆ Journalistic  ┆ #NEWS_JOU_W   ┆ #WIKIS        │\n",
       "│                ┆ escolhida      ┆ remota nesta   ┆               ┆               ┆               │\n",
       "│                ┆ procu…         ┆ terça-…        ┆               ┆               ┆               │\n",
       "│ DAT000503374cw ┆ null           ┆ \t@passozx poxa ┆ Virtual       ┆ #TWEET_VIR_W  ┆ #DATASETS_AND │\n",
       "│                ┆                ┆ :(             ┆               ┆               ┆ _OTHER_CORPOR │\n",
       "│                ┆                ┆                ┆               ┆               ┆ A             │\n",
       "│ DAT000951987ei ┆ null           ┆ \tbom dia,      ┆ Virtual       ┆ #TWEET_VIR_W  ┆ #DATASETS_AND │\n",
       "│                ┆                ┆ bebê! como     ┆               ┆               ┆ _OTHER_CORPOR │\n",
       "│                ┆                ┆ você está…     ┆               ┆               ┆ A             │\n",
       "│ DAT000326787aw ┆ Cresce         ┆ \tRecém-saída   ┆ Journalistic  ┆ #NEWS_JOU_W   ┆ #DATASETS_AND │\n",
       "│                ┆ discriminação  ┆ da faculdade,  ┆               ┆               ┆ _OTHER_CORPOR │\n",
       "│                ┆ contra mu…     ┆ Ang…           ┆               ┆               ┆ A             │\n",
       "│ DAT000483843cv ┆ null           ┆ \tO Nani já não ┆ Virtual       ┆ #TWEET_VIR_W  ┆ #DATASETS_AND │\n",
       "│                ┆                ┆ dá mortais? :( ┆               ┆               ┆ _OTHER_CORPOR │\n",
       "│                ┆                ┆                ┆               ┆               ┆ A             │\n",
       "│ WIK000146593am ┆ Agostinho da   ┆ \tGeorge        ┆ Instructional ┆ #VOCABULARY_E ┆ #WIKIS        │\n",
       "│                ┆ Silva          ┆ Agostinho      ┆               ┆ NTRY_INS_W    ┆               │\n",
       "│                ┆                ┆ Baptista da …  ┆               ┆               ┆               │\n",
       "│ WIK000227187bd ┆ Clássico       ┆ \tO Clássico    ┆ Instructional ┆ #VOCABULARY_E ┆ #WIKIS        │\n",
       "│                ┆ Matuto         ┆ Mestre         ┆               ┆ NTRY_INS_W    ┆               │\n",
       "│                ┆                ┆ Vitalino ou…   ┆               ┆               ┆               │\n",
       "│ DAT000500658cw ┆ null           ┆ \tJá não existe ┆ Virtual       ┆ #TWEET_VIR_W  ┆ #DATASETS_AND │\n",
       "│                ┆                ┆ :(             ┆               ┆               ┆ _OTHER_CORPOR │\n",
       "│                ┆                ┆ https://t.co…  ┆               ┆               ┆ A             │\n",
       "│ WIK000438212cr ┆ Discussão:A    ┆ \tCategory:!Art ┆ Virtual       ┆ #DISCUSSION_V ┆ #WIKIS        │\n",
       "│                ┆ Torre Negra    ┆ igos com       ┆               ┆ IR_W          ┆               │\n",
       "│                ┆                ┆ qualida…       ┆               ┆               ┆               │\n",
       "│ DAT000743457dr ┆ null           ┆ \t@flossombrazi ┆ Virtual       ┆ #TWEET_VIR_W  ┆ #DATASETS_AND │\n",
       "│                ┆                ┆ l O fandom tá  ┆               ┆               ┆ _OTHER_CORPOR │\n",
       "│                ┆                ┆ cr…            ┆               ┆               ┆ A             │\n",
       "└────────────────┴────────────────┴────────────────┴───────────────┴───────────────┴───────────────┘"
      ]
     },
     "execution_count": 7,
     "metadata": {},
     "output_type": "execute_result"
    }
   ],
   "source": [
    "type_df.sample(10)"
   ]
  },
  {
   "cell_type": "code",
   "execution_count": 8,
   "id": "d598557d-094c-4a81-8e92-bd3882662634",
   "metadata": {
    "tags": []
   },
   "outputs": [
    {
     "data": {
      "text/plain": [
       "(1111829, 6)"
      ]
     },
     "execution_count": 8,
     "metadata": {},
     "output_type": "execute_result"
    }
   ],
   "source": [
    "type_df.shape"
   ]
  },
  {
   "cell_type": "code",
   "execution_count": 9,
   "id": "f68d5c3f-fdb1-455c-b537-952587e6ffb2",
   "metadata": {},
   "outputs": [],
   "source": [
    "type_df.write_parquet('carolina_balanced_typologies.parquet')"
   ]
  }
 ],
 "metadata": {
  "kernelspec": {
   "display_name": "Python 3 (ipykernel)",
   "language": "python",
   "name": "python3"
  },
  "language_info": {
   "codemirror_mode": {
    "name": "ipython",
    "version": 3
   },
   "file_extension": ".py",
   "mimetype": "text/x-python",
   "name": "python",
   "nbconvert_exporter": "python",
   "pygments_lexer": "ipython3",
   "version": "3.12.8"
  }
 },
 "nbformat": 4,
 "nbformat_minor": 5
}
