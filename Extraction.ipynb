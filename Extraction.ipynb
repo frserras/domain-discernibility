{
 "cells": [
  {
   "cell_type": "code",
   "execution_count": 1,
   "id": "e9f1d330-38c4-49fc-adac-37c8d721cf0e",
   "metadata": {
    "tags": []
   },
   "outputs": [],
   "source": [
    "import os\n",
    "import pandas as pd\n",
    "from tqdm import tqdm\n",
    "import xml.etree.ElementTree as et"
   ]
  },
  {
   "cell_type": "code",
   "execution_count": 2,
   "id": "807b0e12-fd95-4dd3-875d-cac1a67b3fcd",
   "metadata": {
    "tags": []
   },
   "outputs": [],
   "source": [
    "def obtain_xml_files(target_directory):\n",
    "    xml_files = []\n",
    "    for root, _, files in os.walk(target_directory):\n",
    "        for file in files:\n",
    "            if file.endswith('.xml'):\n",
    "                xml_files.append(os.path.join(root, file))\n",
    "    return xml_files"
   ]
  },
  {
   "cell_type": "code",
   "execution_count": 3,
   "id": "9b91767b-cef2-4df1-a803-c5b89701397c",
   "metadata": {
    "tags": []
   },
   "outputs": [],
   "source": [
    "def extract_type_info(xml_files, namespace='http://www.tei-c.org/ns/1.0'):\n",
    "    et.register_namespace('', namespace)\n",
    "    tag = lambda tag_name: '{' + namespace + '}' + tag_name\n",
    "    data = {'title_id':[], 'title_content':[], 'body':[], 'domain':[], 'source_type':[], 'carolina_type':[]}\n",
    "    for xml_file in tqdm(xml_files):\n",
    "        tree = et.parse(xml_file)\n",
    "        root = tree.getroot()\n",
    "        documents = tree.findall(tag('TEI'))\n",
    "        doc_count = 0\n",
    "        for document in documents:\n",
    "            header = document.findall(tag('teiHeader'))[0]\n",
    "            fileDesc = header.findall(tag('fileDesc'))[0]\n",
    "            titleStmt = fileDesc.findall(tag('titleStmt'))[0]\n",
    "            title_id = titleStmt.findall(tag('title'))[0].text\n",
    "            \n",
    "            text = document.findall(tag('text'))[0]\n",
    "            body = text.findall(tag('body'))[0]\n",
    "            paragraphs =  body.findall(tag('p'))\n",
    "            try:\n",
    "                content =\"\\t\" + \"\\n\\t\".join([p.text for p in paragraphs])\n",
    "            except TypeError as err:\n",
    "                content =\"\\t\" + \"\\n\\t\".join([p.text for p in paragraphs if p.text != None])\n",
    "                print('!@', title_id)\n",
    "            \n",
    "            sourceDesc = fileDesc.findall(tag('sourceDesc'))[0]\n",
    "            biblFull = sourceDesc.findall(tag('biblFull'))[0]\n",
    "            profileDesc = biblFull.findall(tag('profileDesc'))[0]\n",
    "            textDesc = profileDesc.findall(tag('textDesc'))[0]\n",
    "            domain = textDesc.findall(tag('domain'))[0].text\n",
    "            \n",
    "    \n",
    "            fileDesc = biblFull.findall(tag('fileDesc'))[0]\n",
    "            titleStmt = fileDesc.findall(tag('titleStmt'))[0]\n",
    "            title = titleStmt.findall(tag('title'))[0]\n",
    "            title_content = title.findall(tag('name'))[0].text\n",
    "            \n",
    "    \n",
    "            textClass = profileDesc.findall(tag('textClass'))[0]\n",
    "            catRef = textClass.findall(tag('catRef'))[0]\n",
    "            if catRef.attrib['scheme'] != \"#Source_typology\":\n",
    "                raise ValueError(\"Typological Scheme Error: expected #Source_typology, found \" + catRef.attrib['scheme'])\n",
    "            source_type = catRef.attrib['target']\n",
    "            \n",
    "    \n",
    "            profileDesc = header.findall(tag('profileDesc'))[0]\n",
    "            textClass = profileDesc.findall(tag('textClass'))[0]\n",
    "            catRef = textClass.findall(tag('catRef'))[0]\n",
    "            if catRef.attrib['scheme'] != \"#Carolina_typology\":\n",
    "                raise ValueError(\"Typological Scheme Error: expected #Carolina_typology, found \" + catRef.attrib['scheme'])\n",
    "            carolina_type = catRef.attrib['target']\n",
    "            \n",
    "            \n",
    "            data['body'].append(content)\n",
    "            data['title_id'].append(title_id)\n",
    "            data['title_content'].append(title_content)\n",
    "            data['source_type'].append(source_type)\n",
    "            data['carolina_type'].append(carolina_type)\n",
    "            data['domain'].append(domain)\n",
    "                \n",
    "                \n",
    "            \n",
    "            doc_count += 1\n",
    "    df = pd.DataFrame(data)\n",
    "    return df\n",
    "    "
   ]
  },
  {
   "cell_type": "code",
   "execution_count": 4,
   "id": "a9449e3d-9f9d-43a1-92b1-1384c2bd09ea",
   "metadata": {
    "tags": []
   },
   "outputs": [
    {
     "name": "stderr",
     "output_type": "stream",
     "text": [
      "100%|████████████████████████████████████████████████████████████████████████████████████████| 397/397 [22:12<00:00,  3.36s/it]\n"
     ]
    }
   ],
   "source": [
    "xml_files = obtain_xml_files('Carolina_balanceado')\n",
    "type_df = extract_type_info(xml_files)"
   ]
  },
  {
   "cell_type": "code",
   "execution_count": 5,
   "id": "ac7bb64c-d78f-4586-88a5-2fd4e1aea3c7",
   "metadata": {
    "tags": []
   },
   "outputs": [
    {
     "data": {
      "text/html": [
       "<div>\n",
       "<style scoped>\n",
       "    .dataframe tbody tr th:only-of-type {\n",
       "        vertical-align: middle;\n",
       "    }\n",
       "\n",
       "    .dataframe tbody tr th {\n",
       "        vertical-align: top;\n",
       "    }\n",
       "\n",
       "    .dataframe thead th {\n",
       "        text-align: right;\n",
       "    }\n",
       "</style>\n",
       "<table border=\"1\" class=\"dataframe\">\n",
       "  <thead>\n",
       "    <tr style=\"text-align: right;\">\n",
       "      <th></th>\n",
       "      <th>title_id</th>\n",
       "      <th>title_content</th>\n",
       "      <th>body</th>\n",
       "      <th>domain</th>\n",
       "      <th>source_type</th>\n",
       "      <th>carolina_type</th>\n",
       "    </tr>\n",
       "  </thead>\n",
       "  <tbody>\n",
       "    <tr>\n",
       "      <th>0</th>\n",
       "      <td>WIK000865919fs</td>\n",
       "      <td>Usuário(a):Cesarsbraz</td>\n",
       "      <td>\\tSou Cesar Braz, nascido em São Bernardo do C...</td>\n",
       "      <td>Virtual</td>\n",
       "      <td>#USER_PAGE_VIR_W</td>\n",
       "      <td>#WIKIS</td>\n",
       "    </tr>\n",
       "    <tr>\n",
       "      <th>1</th>\n",
       "      <td>WIK000865927fs</td>\n",
       "      <td>Programas-Quadro para pesquisa e desenvolvimen...</td>\n",
       "      <td>\\tOs Programas-Quadro de Pesquisa e Desenvolvi...</td>\n",
       "      <td>Instructional</td>\n",
       "      <td>#VOCABULARY_ENTRY_INS_W</td>\n",
       "      <td>#WIKIS</td>\n",
       "    </tr>\n",
       "    <tr>\n",
       "      <th>2</th>\n",
       "      <td>WIK000865931fs</td>\n",
       "      <td>Usuário(a):Tartarugaboladona/Testes</td>\n",
       "      <td>\\tCostumes: eles costumam fazer cavalhadas e a...</td>\n",
       "      <td>Virtual</td>\n",
       "      <td>#USER_PAGE_VIR_W</td>\n",
       "      <td>#WIKIS</td>\n",
       "    </tr>\n",
       "    <tr>\n",
       "      <th>3</th>\n",
       "      <td>WIK000865940fs</td>\n",
       "      <td>Usuário(a):SirEdimon/Testes/2</td>\n",
       "      <td>\\tMirian Silva da Paixão (Riacho de Santana, 2...</td>\n",
       "      <td>Virtual</td>\n",
       "      <td>#USER_PAGE_VIR_W</td>\n",
       "      <td>#WIKIS</td>\n",
       "    </tr>\n",
       "    <tr>\n",
       "      <th>4</th>\n",
       "      <td>WIK000865943fs</td>\n",
       "      <td>Usuário(a):Abelcardoso</td>\n",
       "      <td>\\tAbel Marques de Vasconcelos Cardoso, nasceu ...</td>\n",
       "      <td>Virtual</td>\n",
       "      <td>#USER_PAGE_VIR_W</td>\n",
       "      <td>#WIKIS</td>\n",
       "    </tr>\n",
       "    <tr>\n",
       "      <th>5</th>\n",
       "      <td>WIK000865944fs</td>\n",
       "      <td>Usuário(a):Jpoa/Testes</td>\n",
       "      <td>\\tArmando Tavares de Sousa (Belém (Lisboa), 19...</td>\n",
       "      <td>Virtual</td>\n",
       "      <td>#USER_PAGE_VIR_W</td>\n",
       "      <td>#WIKIS</td>\n",
       "    </tr>\n",
       "    <tr>\n",
       "      <th>6</th>\n",
       "      <td>WIK000865947fs</td>\n",
       "      <td>Antena 1 Vitória</td>\n",
       "      <td>\\tAntena 1 Vitória é uma emissora de rádio bra...</td>\n",
       "      <td>Instructional</td>\n",
       "      <td>#VOCABULARY_ENTRY_INS_W</td>\n",
       "      <td>#WIKIS</td>\n",
       "    </tr>\n",
       "    <tr>\n",
       "      <th>7</th>\n",
       "      <td>WIK000865949fs</td>\n",
       "      <td>Salmito</td>\n",
       "      <td>\\tJoão Salmito Filho (Fortaleza, 15 de outubro...</td>\n",
       "      <td>Instructional</td>\n",
       "      <td>#VOCABULARY_ENTRY_INS_W</td>\n",
       "      <td>#WIKIS</td>\n",
       "    </tr>\n",
       "    <tr>\n",
       "      <th>8</th>\n",
       "      <td>WIK000865950fs</td>\n",
       "      <td>Euroscola</td>\n",
       "      <td>\\tO Concurso Euroscola, criado em 1990, é um p...</td>\n",
       "      <td>Instructional</td>\n",
       "      <td>#VOCABULARY_ENTRY_INS_W</td>\n",
       "      <td>#WIKIS</td>\n",
       "    </tr>\n",
       "    <tr>\n",
       "      <th>9</th>\n",
       "      <td>WIK000865952fs</td>\n",
       "      <td>Censo da Índia de 2011</td>\n",
       "      <td>\\tTrabalho em andamento, West Sikkim O 15º Cen...</td>\n",
       "      <td>Instructional</td>\n",
       "      <td>#VOCABULARY_ENTRY_INS_W</td>\n",
       "      <td>#WIKIS</td>\n",
       "    </tr>\n",
       "  </tbody>\n",
       "</table>\n",
       "</div>"
      ],
      "text/plain": [
       "         title_id                                      title_content   \n",
       "0  WIK000865919fs                              Usuário(a):Cesarsbraz  \\\n",
       "1  WIK000865927fs  Programas-Quadro para pesquisa e desenvolvimen...   \n",
       "2  WIK000865931fs                Usuário(a):Tartarugaboladona/Testes   \n",
       "3  WIK000865940fs                      Usuário(a):SirEdimon/Testes/2   \n",
       "4  WIK000865943fs                             Usuário(a):Abelcardoso   \n",
       "5  WIK000865944fs                             Usuário(a):Jpoa/Testes   \n",
       "6  WIK000865947fs                                   Antena 1 Vitória   \n",
       "7  WIK000865949fs                                            Salmito   \n",
       "8  WIK000865950fs                                          Euroscola   \n",
       "9  WIK000865952fs                             Censo da Índia de 2011   \n",
       "\n",
       "                                                body         domain   \n",
       "0  \\tSou Cesar Braz, nascido em São Bernardo do C...        Virtual  \\\n",
       "1  \\tOs Programas-Quadro de Pesquisa e Desenvolvi...  Instructional   \n",
       "2  \\tCostumes: eles costumam fazer cavalhadas e a...        Virtual   \n",
       "3  \\tMirian Silva da Paixão (Riacho de Santana, 2...        Virtual   \n",
       "4  \\tAbel Marques de Vasconcelos Cardoso, nasceu ...        Virtual   \n",
       "5  \\tArmando Tavares de Sousa (Belém (Lisboa), 19...        Virtual   \n",
       "6  \\tAntena 1 Vitória é uma emissora de rádio bra...  Instructional   \n",
       "7  \\tJoão Salmito Filho (Fortaleza, 15 de outubro...  Instructional   \n",
       "8  \\tO Concurso Euroscola, criado em 1990, é um p...  Instructional   \n",
       "9  \\tTrabalho em andamento, West Sikkim O 15º Cen...  Instructional   \n",
       "\n",
       "               source_type carolina_type  \n",
       "0         #USER_PAGE_VIR_W        #WIKIS  \n",
       "1  #VOCABULARY_ENTRY_INS_W        #WIKIS  \n",
       "2         #USER_PAGE_VIR_W        #WIKIS  \n",
       "3         #USER_PAGE_VIR_W        #WIKIS  \n",
       "4         #USER_PAGE_VIR_W        #WIKIS  \n",
       "5         #USER_PAGE_VIR_W        #WIKIS  \n",
       "6  #VOCABULARY_ENTRY_INS_W        #WIKIS  \n",
       "7  #VOCABULARY_ENTRY_INS_W        #WIKIS  \n",
       "8  #VOCABULARY_ENTRY_INS_W        #WIKIS  \n",
       "9  #VOCABULARY_ENTRY_INS_W        #WIKIS  "
      ]
     },
     "execution_count": 5,
     "metadata": {},
     "output_type": "execute_result"
    }
   ],
   "source": [
    "type_df.head(10)"
   ]
  },
  {
   "cell_type": "code",
   "execution_count": 6,
   "id": "d598557d-094c-4a81-8e92-bd3882662634",
   "metadata": {
    "tags": []
   },
   "outputs": [
    {
     "data": {
      "text/plain": [
       "(1113556, 6)"
      ]
     },
     "execution_count": 6,
     "metadata": {},
     "output_type": "execute_result"
    }
   ],
   "source": [
    "type_df.shape"
   ]
  },
  {
   "cell_type": "code",
   "execution_count": 7,
   "id": "f68d5c3f-fdb1-455c-b537-952587e6ffb2",
   "metadata": {},
   "outputs": [],
   "source": [
    "type_df.to_csv('carolina_balanced_typologies.csv', index=False)"
   ]
  }
 ],
 "metadata": {
  "kernelspec": {
   "display_name": "lavihd",
   "language": "python",
   "name": "lavihd"
  },
  "language_info": {
   "codemirror_mode": {
    "name": "ipython",
    "version": 3
   },
   "file_extension": ".py",
   "mimetype": "text/x-python",
   "name": "python",
   "nbconvert_exporter": "python",
   "pygments_lexer": "ipython3",
   "version": "3.10.12"
  }
 },
 "nbformat": 4,
 "nbformat_minor": 5
}
